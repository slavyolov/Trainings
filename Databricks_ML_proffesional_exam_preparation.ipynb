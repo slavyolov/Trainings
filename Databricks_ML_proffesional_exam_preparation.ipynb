{
  "nbformat": 4,
  "nbformat_minor": 0,
  "metadata": {
    "colab": {
      "provenance": [],
      "collapsed_sections": [],
      "mount_file_id": "1Dpvlfjia-qS86e89d6yni6CNJU6LKJ7a",
      "authorship_tag": "ABX9TyNcyVrJjYo75qdj15ZNlHxv",
      "include_colab_link": true
    },
    "kernelspec": {
      "name": "python3",
      "display_name": "Python 3"
    },
    "language_info": {
      "name": "python"
    }
  },
  "cells": [
    {
      "cell_type": "markdown",
      "metadata": {
        "id": "view-in-github",
        "colab_type": "text"
      },
      "source": [
        "<a href=\"https://colab.research.google.com/github/slavyolov/Trainings/blob/master/Databricks_ML_proffesional_exam_preparation.ipynb\" target=\"_parent\"><img src=\"https://colab.research.google.com/assets/colab-badge.svg\" alt=\"Open In Colab\"/></a>"
      ]
    },
    {
      "cell_type": "markdown",
      "source": [
        "# **Databricks Certificate**\n",
        "\n",
        "## **Machine Learning Professional**\n",
        "\n",
        "- Course\n",
        "  - https://www.databricks.com/learn/certification/machine-learning-professional\n",
        "- Exam registration\n",
        "  - https://www.webassessor.com/databricks\n",
        "- Preparation \n",
        "  - Databricks Academy | https://customer-academy.databricks.com/learn/signin\n",
        "  - Databricks Course  | https://customer-academy.databricks.com/learn/course/1141/machine-learning-in-production\n",
        "  - Resources v 3.3.0 | https://github.com/databricks-academy/ml-in-production-english/releases/tag/v3.3.0\n",
        "    - DBC archive local | https://adb-4695232139311202.2.azuredatabricks.net/?o=4695232139311202#folder/2011359681147516\n",
        "    - PDF slides local | file:///Users/syol07091/Downloads/ML-in-Production-2.pdf\n",
        "\n",
        "### Learned :\n",
        "- Feature store\n",
        "- MLOps (MLflow)"
      ],
      "metadata": {
        "id": "c-k6wCoCQVxe"
      }
    },
    {
      "cell_type": "code",
      "source": [
        "from google.colab import drive\n",
        "drive.mount('/content/drive')"
      ],
      "metadata": {
        "colab": {
          "base_uri": "https://localhost:8080/"
        },
        "id": "wMJDWnMJXKmv",
        "outputId": "148cce82-1c31-44cc-855e-935435a136d2"
      },
      "execution_count": 2,
      "outputs": [
        {
          "output_type": "stream",
          "name": "stdout",
          "text": [
            "Mounted at /content/drive\n"
          ]
        }
      ]
    },
    {
      "cell_type": "markdown",
      "source": [
        "- Delta Lake Optimizations (https://docs.databricks.com/delta/optimizations/file-mgmt.html)\n",
        " - Compactions - combining small files into larger units (e.g. 128mb)\n",
        " - Data Skipping - far beyond the limits of the mirror partitionins\n",
        " - Z-ordering - alternative to traditional indexing"
      ],
      "metadata": {
        "id": "P8a8KtFRd2xd"
      }
    },
    {
      "cell_type": "markdown",
      "source": [
        "**# KEY Learnings**\n",
        "- To load specific version of a delta table :\n",
        " - delta_df = spark.read.format(\"delta\").option(\"versionAsOf\", 0).load(working_dir)\n",
        "\n",
        "- Note that the ability to query an older snapshot of a table (time travel) is lost **after running a VACUUM command.**\n",
        "- Feature store - http://docs.databricks.com.s3-website-us-west-1.amazonaws.com/applications/machine-learning/feature-store/index.html#databricks-feature-store\n",
        "  - A feature store is a centralized repository that enables data scientists to find and share features and also ensures that the same code used to compute the feature values is used for model training and inference."
      ],
      "metadata": {
        "id": "cf1UnvSroFWG"
      }
    }
  ]
}